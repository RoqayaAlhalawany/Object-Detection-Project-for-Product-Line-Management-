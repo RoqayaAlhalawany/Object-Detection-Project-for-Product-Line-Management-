{
 "cells": [
  {
   "cell_type": "markdown",
   "metadata": {},
   "source": [
    "# 1. Import Dependencies"
   ]
  },
  {
   "cell_type": "code",
   "execution_count": 1,
   "metadata": {},
   "outputs": [
    {
     "name": "stdout",
     "output_type": "stream",
     "text": [
      "Collecting opencv-python\n",
      "  Using cached opencv_python-4.6.0.66-cp36-abi3-win_amd64.whl (35.6 MB)\n",
      "Collecting numpy>=1.14.5\n",
      "  Downloading numpy-1.23.5-cp310-cp310-win_amd64.whl (14.6 MB)\n",
      "     ---------------------------------------- 14.6/14.6 MB 9.0 MB/s eta 0:00:00\n",
      "Installing collected packages: numpy, opencv-python\n",
      "Successfully installed numpy-1.23.5 opencv-python-4.6.0.66\n"
     ]
    }
   ],
   "source": [
    "!pip install opencv-python"
   ]
  },
  {
   "cell_type": "code",
   "execution_count": 2,
   "metadata": {},
   "outputs": [],
   "source": [
    "# Import opencv\n",
    "import cv2 \n",
    "\n",
    "# Import uuid\n",
    "import uuid\n",
    "\n",
    "# Import Operating System\n",
    "import os\n",
    "\n",
    "# Import time\n",
    "import time"
   ]
  },
  {
   "cell_type": "markdown",
   "metadata": {},
   "source": [
    "# 2. Define Images to Collect"
   ]
  },
  {
   "cell_type": "code",
   "execution_count": 7,
   "metadata": {},
   "outputs": [],
   "source": [
    "labels = ['ring', 'spring', 'bearing', 'small ring', 'coil', 'screw', 'piston', 'circular screw', 'hook']\n",
    "number_imgs = 5"
   ]
  },
  {
   "cell_type": "markdown",
   "metadata": {},
   "source": [
    "# 3. Setup Folders "
   ]
  },
  {
   "cell_type": "code",
   "execution_count": 3,
   "metadata": {},
   "outputs": [],
   "source": [
    "IMAGES_PATH = os.path.join('Tensorflow', 'workspace', 'images', 'collectedimages')"
   ]
  },
  {
   "cell_type": "code",
   "execution_count": 5,
   "metadata": {},
   "outputs": [
    {
     "data": {
      "text/plain": [
       "'nt'"
      ]
     },
     "execution_count": 5,
     "metadata": {},
     "output_type": "execute_result"
    }
   ],
   "source": [
    "os.name"
   ]
  },
  {
   "cell_type": "code",
   "execution_count": 8,
   "metadata": {},
   "outputs": [],
   "source": [
    "if not os.path.exists(IMAGES_PATH):\n",
    "    if os.name == 'posix':\n",
    "        !mkdir -p {IMAGES_PATH}\n",
    "    if os.name == 'nt':\n",
    "         !mkdir {IMAGES_PATH}\n",
    "for label in labels:\n",
    "    path = os.path.join(IMAGES_PATH, label)\n",
    "    if not os.path.exists(path):\n",
    "        !mkdir {path}"
   ]
  },
  {
   "cell_type": "markdown",
   "metadata": {},
   "source": []
  },
  {
   "cell_type": "code",
   "execution_count": 18,
   "metadata": {},
   "outputs": [
    {
     "name": "stdout",
     "output_type": "stream",
     "text": [
      "Collecting images for thumbsup\n",
      "Collecting image 0\n",
      "Collecting image 1\n",
      "Collecting image 2\n",
      "Collecting image 3\n",
      "Collecting image 4\n"
     ]
    }
   ],
   "source": []
  },
  {
   "cell_type": "markdown",
   "metadata": {},
   "source": [
    "# 5. Image Labelling"
   ]
  },
  {
   "cell_type": "code",
   "execution_count": 10,
   "metadata": {},
   "outputs": [
    {
     "name": "stdout",
     "output_type": "stream",
     "text": [
      "Requirement already satisfied: pyqt5 in c:\\users\\muham\\documents\\github\\object detection\\tfodcourse\\tfod\\lib\\site-packages (5.15.7)\n",
      "Requirement already satisfied: lxml in c:\\users\\muham\\documents\\github\\object detection\\tfodcourse\\tfod\\lib\\site-packages (4.9.1)\n",
      "Requirement already satisfied: PyQt5-sip<13,>=12.11 in c:\\users\\muham\\documents\\github\\object detection\\tfodcourse\\tfod\\lib\\site-packages (from pyqt5) (12.11.0)\n",
      "Requirement already satisfied: PyQt5-Qt5>=5.15.0 in c:\\users\\muham\\documents\\github\\object detection\\tfodcourse\\tfod\\lib\\site-packages (from pyqt5) (5.15.2)\n"
     ]
    }
   ],
   "source": [
    "!pip install --upgrade pyqt5 lxml"
   ]
  },
  {
   "cell_type": "code",
   "execution_count": 11,
   "metadata": {},
   "outputs": [
    {
     "name": "stdout",
     "output_type": "stream",
     "text": [
      "Package           Version\n",
      "----------------- --------\n",
      "asttokens         2.1.0\n",
      "backcall          0.2.0\n",
      "colorama          0.4.6\n",
      "debugpy           1.6.3\n",
      "decorator         5.1.1\n",
      "entrypoints       0.4\n",
      "executing         1.2.0\n",
      "ipykernel         6.17.1\n",
      "ipython           8.6.0\n",
      "jedi              0.18.2\n",
      "jupyter_client    7.4.7\n",
      "jupyter_core      5.0.0\n",
      "lxml              4.9.1\n",
      "matplotlib-inline 0.1.6\n",
      "nest-asyncio      1.5.6\n",
      "numpy             1.23.5\n",
      "opencv-python     4.6.0.66\n",
      "packaging         21.3\n",
      "parso             0.8.3\n",
      "pickleshare       0.7.5\n",
      "pip               22.3.1\n",
      "platformdirs      2.5.4\n",
      "prompt-toolkit    3.0.33\n",
      "psutil            5.9.4\n",
      "pure-eval         0.2.2\n",
      "Pygments          2.13.0\n",
      "pyparsing         3.0.9\n",
      "PyQt5             5.15.7\n",
      "PyQt5-Qt5         5.15.2\n",
      "PyQt5-sip         12.11.0\n",
      "python-dateutil   2.8.2\n",
      "pywin32           305\n",
      "pyzmq             24.0.1\n",
      "setuptools        63.2.0\n",
      "six               1.16.0\n",
      "stack-data        0.6.1\n",
      "tornado           6.2\n",
      "traitlets         5.5.0\n",
      "wcwidth           0.2.5\n",
      "Note: you may need to restart the kernel to use updated packages.\n"
     ]
    }
   ],
   "source": [
    "pip list"
   ]
  },
  {
   "cell_type": "code",
   "execution_count": 12,
   "metadata": {},
   "outputs": [],
   "source": [
    "LABELIMG_PATH = os.path.join('Tensorflow', 'labelimg')"
   ]
  },
  {
   "cell_type": "code",
   "execution_count": 13,
   "metadata": {},
   "outputs": [
    {
     "name": "stderr",
     "output_type": "stream",
     "text": [
      "Cloning into 'Tensorflow\\labelimg'...\n",
      "hint: core.useBuiltinFSMonitor=true is deprecated;please set core.fsmonitor=true instead\n",
      "hint: Disable this message with \"git config advice.useCoreFSMonitorConfig false\"\n"
     ]
    }
   ],
   "source": [
    "if not os.path.exists(LABELIMG_PATH):\n",
    "    !mkdir {LABELIMG_PATH}\n",
    "    !git clone https://github.com/tzutalin/labelImg {LABELIMG_PATH}"
   ]
  },
  {
   "cell_type": "code",
   "execution_count": 14,
   "metadata": {},
   "outputs": [],
   "source": [
    "if os.name == 'posix':\n",
    "    !cd {LABELIMG_PATH} && make qt5py3\n",
    "if os.name =='nt':\n",
    "    !cd {LABELIMG_PATH} && pyrcc5 -o libs/resources.py resources.qrc"
   ]
  },
  {
   "cell_type": "code",
   "execution_count": 15,
   "metadata": {},
   "outputs": [
    {
     "name": "stdout",
     "output_type": "stream",
     "text": [
      "Cancel creation.\n",
      "Cancel creation.\n",
      "Cancel creation.\n",
      "Cancel creation.\n",
      "Image:C:\\Users\\muham\\Documents\\GitHub\\Object detection\\TFODCourse\\Tensorflow\\workspace\\images\\collectedimages\\2022-03-11-11-3A25-3A55-807790_jpg.rf.8ebb853cb0fa7407fbe9b17f41178422.jpg -> Annotation:C:/Users/muham/Documents/GitHub/Object detection/TFODCourse/Tensorflow/workspace/images/collectedimages\\2022-03-11-11-3A25-3A55-807790_jpg.rf.8ebb853cb0fa7407fbe9b17f41178422.xml\n",
      "Cancel creation.\n",
      "Image:C:\\Users\\muham\\Documents\\GitHub\\Object detection\\TFODCourse\\Tensorflow\\workspace\\images\\collectedimages\\2022-03-11-11-3A25-3A59-283281_jpg.rf.f04cc7dcaf0e8f50f851d2a26fee55e1.jpg -> Annotation:C:/Users/muham/Documents/GitHub/Object detection/TFODCourse/Tensorflow/workspace/images/collectedimages\\2022-03-11-11-3A25-3A59-283281_jpg.rf.f04cc7dcaf0e8f50f851d2a26fee55e1.xml\n",
      "Cancel creation.\n",
      "Image:C:\\Users\\muham\\Documents\\GitHub\\Object detection\\TFODCourse\\Tensorflow\\workspace\\images\\collectedimages\\2022-03-11-11-3A26-3A05-814106_jpg.rf.f68825662ca0f7461329bb990e5c7483.jpg -> Annotation:C:/Users/muham/Documents/GitHub/Object detection/TFODCourse/Tensorflow/workspace/images/collectedimages\\2022-03-11-11-3A26-3A05-814106_jpg.rf.f68825662ca0f7461329bb990e5c7483.xml\n",
      "Image:C:\\Users\\muham\\Documents\\GitHub\\Object detection\\TFODCourse\\Tensorflow\\workspace\\images\\collectedimages\\2022-03-11-11-3A26-3A09-801304_jpg.rf.855d288609532d95e73d4e5da348fbf4.jpg -> Annotation:C:/Users/muham/Documents/GitHub/Object detection/TFODCourse/Tensorflow/workspace/images/collectedimages\\2022-03-11-11-3A26-3A09-801304_jpg.rf.855d288609532d95e73d4e5da348fbf4.xml\n",
      "Cancel creation.\n",
      "Cancel creation.\n",
      "Image:C:\\Users\\muham\\Documents\\GitHub\\Object detection\\TFODCourse\\Tensorflow\\workspace\\images\\collectedimages\\2022-03-11-11-3A26-3A14-791461_jpg.rf.aecf4c09a425d6de8c7b34da6e29e9df.jpg -> Annotation:C:/Users/muham/Documents/GitHub/Object detection/TFODCourse/Tensorflow/workspace/images/collectedimages\\2022-03-11-11-3A26-3A14-791461_jpg.rf.aecf4c09a425d6de8c7b34da6e29e9df.xml\n",
      "Image:C:\\Users\\muham\\Documents\\GitHub\\Object detection\\TFODCourse\\Tensorflow\\workspace\\images\\collectedimages\\2022-03-11-11-3A26-3A14-791461_jpg.rf.aecf4c09a425d6de8c7b34da6e29e9df.jpg -> Annotation:C:/Users/muham/Documents/GitHub/Object detection/TFODCourse/Tensorflow/workspace/images/collectedimages/2022-03-11-11-3A26-3A14-791461_jpg.rf.aecf4c09a425d6de8c7b34da6e29e9df.xml\n",
      "Cancel creation.\n",
      "Image:C:\\Users\\muham\\Documents\\GitHub\\Object detection\\TFODCourse\\Tensorflow\\workspace\\images\\collectedimages\\2022-03-11-11-3A26-3A22-793130_jpg.rf.16cda895f7447f69b306099849e8340c.jpg -> Annotation:C:/Users/muham/Documents/GitHub/Object detection/TFODCourse/Tensorflow/workspace/images/collectedimages\\2022-03-11-11-3A26-3A22-793130_jpg.rf.16cda895f7447f69b306099849e8340c.xml\n",
      "Cancel creation.\n",
      "Cancel creation.\n",
      "Image:C:\\Users\\muham\\Documents\\GitHub\\Object detection\\TFODCourse\\Tensorflow\\workspace\\images\\collectedimages\\2022-03-11-11-3A26-3A26-289059_jpg.rf.c802e2e6d45e03438339183d8fe7ef0f.jpg -> Annotation:C:/Users/muham/Documents/GitHub/Object detection/TFODCourse/Tensorflow/workspace/images/collectedimages\\2022-03-11-11-3A26-3A26-289059_jpg.rf.c802e2e6d45e03438339183d8fe7ef0f.xml\n",
      "Cancel creation.\n",
      "Image:C:\\Users\\muham\\Documents\\GitHub\\Object detection\\TFODCourse\\Tensorflow\\workspace\\images\\collectedimages\\2022-03-11-11-3A26-3A34-819030_jpg.rf.026b4fb63905c6fdd55adb200f3a40ec.jpg -> Annotation:C:/Users/muham/Documents/GitHub/Object detection/TFODCourse/Tensorflow/workspace/images/collectedimages\\2022-03-11-11-3A26-3A34-819030_jpg.rf.026b4fb63905c6fdd55adb200f3a40ec.xml\n",
      "Image:C:\\Users\\muham\\Documents\\GitHub\\Object detection\\TFODCourse\\Tensorflow\\workspace\\images\\collectedimages\\2022-03-11-11-3A26-3A41-291603_jpg.rf.70b63fcd41d7b6bbcdf10ad024c2f7b6.jpg -> Annotation:C:/Users/muham/Documents/GitHub/Object detection/TFODCourse/Tensorflow/workspace/images/collectedimages\\2022-03-11-11-3A26-3A41-291603_jpg.rf.70b63fcd41d7b6bbcdf10ad024c2f7b6.xml\n",
      "Cancel creation.\n",
      "Cancel creation.\n",
      "Cancel creation.\n",
      "Image:C:\\Users\\muham\\Documents\\GitHub\\Object detection\\TFODCourse\\Tensorflow\\workspace\\images\\collectedimages\\2022-03-11-11-3A26-3A53-813718_jpg.rf.6c27f6171a4a8596e961ef2a6ff45145.jpg -> Annotation:C:/Users/muham/Documents/GitHub/Object detection/TFODCourse/Tensorflow/workspace/images/collectedimages\\2022-03-11-11-3A26-3A53-813718_jpg.rf.6c27f6171a4a8596e961ef2a6ff45145.xml\n",
      "Cancel creation.\n",
      "Cancel creation.\n",
      "Cancel creation.\n",
      "Cancel creation.\n",
      "Image:C:\\Users\\muham\\Documents\\GitHub\\Object detection\\TFODCourse\\Tensorflow\\workspace\\images\\collectedimages\\2022-03-11-11-3A26-3A57-302759_jpg.rf.6047a11403b1006144d1ff1003e67cca.jpg -> Annotation:C:/Users/muham/Documents/GitHub/Object detection/TFODCourse/Tensorflow/workspace/images/collectedimages\\2022-03-11-11-3A26-3A57-302759_jpg.rf.6047a11403b1006144d1ff1003e67cca.xml\n",
      "Cancel creation.\n",
      "Image:C:\\Users\\muham\\Documents\\GitHub\\Object detection\\TFODCourse\\Tensorflow\\workspace\\images\\collectedimages\\2022-03-11-11-3A27-3A02-822442_jpg.rf.2fd4e33f5e175d141288fc687026d2c9.jpg -> Annotation:C:/Users/muham/Documents/GitHub/Object detection/TFODCourse/Tensorflow/workspace/images/collectedimages\\2022-03-11-11-3A27-3A02-822442_jpg.rf.2fd4e33f5e175d141288fc687026d2c9.xml\n",
      "Image:C:\\Users\\muham\\Documents\\GitHub\\Object detection\\TFODCourse\\Tensorflow\\workspace\\images\\collectedimages\\2022-03-11-11-3A27-3A05-317285_jpg.rf.2c3c9c996afa6470a83e52021430058f.jpg -> Annotation:C:/Users/muham/Documents/GitHub/Object detection/TFODCourse/Tensorflow/workspace/images/collectedimages\\2022-03-11-11-3A27-3A05-317285_jpg.rf.2c3c9c996afa6470a83e52021430058f.xml\n",
      "Cancel creation.\n",
      "Cancel creation.\n",
      "Image:C:\\Users\\muham\\Documents\\GitHub\\Object detection\\TFODCourse\\Tensorflow\\workspace\\images\\collectedimages\\2022-03-11-11-3A27-3A54-306795_jpg.rf.dd34270dc6c318b6b8d637a8dad999e4.jpg -> Annotation:C:/Users/muham/Documents/GitHub/Object detection/TFODCourse/Tensorflow/workspace/images/collectedimages\\2022-03-11-11-3A27-3A54-306795_jpg.rf.dd34270dc6c318b6b8d637a8dad999e4.xml\n",
      "Image:C:\\Users\\muham\\Documents\\GitHub\\Object detection\\TFODCourse\\Tensorflow\\workspace\\images\\collectedimages\\2022-03-11-11-3A27-3A55-793082_jpg.rf.2c81a8fa336192bf55d3f5f5f75fd8b1.jpg -> Annotation:C:/Users/muham/Documents/GitHub/Object detection/TFODCourse/Tensorflow/workspace/images/collectedimages\\2022-03-11-11-3A27-3A55-793082_jpg.rf.2c81a8fa336192bf55d3f5f5f75fd8b1.xml\n",
      "Cancel creation.\n",
      "Image:C:\\Users\\muham\\Documents\\GitHub\\Object detection\\TFODCourse\\Tensorflow\\workspace\\images\\collectedimages\\2022-03-11-11-3A27-3A56-801169_jpg.rf.825e3f36ce0fab73fb72219d4868289f.jpg -> Annotation:C:/Users/muham/Documents/GitHub/Object detection/TFODCourse/Tensorflow/workspace/images/collectedimages\\2022-03-11-11-3A27-3A56-801169_jpg.rf.825e3f36ce0fab73fb72219d4868289f.xml\n",
      "Cancel creation.\n",
      "Cancel creation.\n",
      "Cancel creation.\n",
      "Image:C:\\Users\\muham\\Documents\\GitHub\\Object detection\\TFODCourse\\Tensorflow\\workspace\\images\\collectedimages\\2022-03-11-11-3A28-3A02-800696_jpg.rf.7f62408b536d97ae7b2d5948c6a2df1a.jpg -> Annotation:C:/Users/muham/Documents/GitHub/Object detection/TFODCourse/Tensorflow/workspace/images/collectedimages\\2022-03-11-11-3A28-3A02-800696_jpg.rf.7f62408b536d97ae7b2d5948c6a2df1a.xml\n",
      "Image:C:\\Users\\muham\\Documents\\GitHub\\Object detection\\TFODCourse\\Tensorflow\\workspace\\images\\collectedimages\\2022-03-11-11-3A28-3A08-809486_jpg.rf.29421d7c32783ed154df2934c79b7006.jpg -> Annotation:C:/Users/muham/Documents/GitHub/Object detection/TFODCourse/Tensorflow/workspace/images/collectedimages\\2022-03-11-11-3A28-3A08-809486_jpg.rf.29421d7c32783ed154df2934c79b7006.xml\n",
      "Cancel creation.\n",
      "Cancel creation.\n",
      "Cancel creation.\n",
      "Cancel creation.\n",
      "Image:C:\\Users\\muham\\Documents\\GitHub\\Object detection\\TFODCourse\\Tensorflow\\workspace\\images\\collectedimages\\2022-03-11-11-3A28-3A28-807757_jpg.rf.8ccc1ae73758fe319b83ad0c3be9a3f4.jpg -> Annotation:C:/Users/muham/Documents/GitHub/Object detection/TFODCourse/Tensorflow/workspace/images/collectedimages\\2022-03-11-11-3A28-3A28-807757_jpg.rf.8ccc1ae73758fe319b83ad0c3be9a3f4.xml\n",
      "Cancel creation.\n",
      "Cancel creation.\n",
      "Cancel creation.\n",
      "Cancel creation.\n",
      "Image:C:\\Users\\muham\\Documents\\GitHub\\Object detection\\TFODCourse\\Tensorflow\\workspace\\images\\collectedimages\\2022-03-11-11-3A28-3A40-810677_jpg.rf.b5c5576eca62767ce6e4a26780b57927.jpg -> Annotation:C:/Users/muham/Documents/GitHub/Object detection/TFODCourse/Tensorflow/workspace/images/collectedimages\\2022-03-11-11-3A28-3A40-810677_jpg.rf.b5c5576eca62767ce6e4a26780b57927.xml\n",
      "Image:C:\\Users\\muham\\Documents\\GitHub\\Object detection\\TFODCourse\\Tensorflow\\workspace\\images\\collectedimages\\2022-10-06-07_52_29-964905_jpg.rf.3fe6340890ce8f92a34c42aec4002603.jpg -> Annotation:C:/Users/muham/Documents/GitHub/Object detection/TFODCourse/Tensorflow/workspace/images/collectedimages\\2022-10-06-07_52_29-964905_jpg.rf.3fe6340890ce8f92a34c42aec4002603.xml\n",
      "Image:C:\\Users\\muham\\Documents\\GitHub\\Object detection\\TFODCourse\\Tensorflow\\workspace\\images\\collectedimages\\2022-03-11-11-3A28-3A43-308460_jpg.rf.2dc8bafc6ba7e77fa888d4fdbe605e1d.jpg -> Annotation:C:/Users/muham/Documents/GitHub/Object detection/TFODCourse/Tensorflow/workspace/images/collectedimages\\2022-03-11-11-3A28-3A43-308460_jpg.rf.2dc8bafc6ba7e77fa888d4fdbe605e1d.xml\n",
      "Image:C:\\Users\\muham\\Documents\\GitHub\\Object detection\\TFODCourse\\Tensorflow\\workspace\\images\\collectedimages\\2022-03-11-11-3A29-3A31-318714_jpg.rf.a87836703dc2c65874a68eda55403357.jpg -> Annotation:C:/Users/muham/Documents/GitHub/Object detection/TFODCourse/Tensorflow/workspace/images/collectedimages\\2022-03-11-11-3A29-3A31-318714_jpg.rf.a87836703dc2c65874a68eda55403357.xml\n",
      "Cancel creation.\n",
      "Cancel creation.\n",
      "Cancel creation.\n",
      "Cancel creation.\n",
      "Cancel creation.\n",
      "Cancel creation.\n",
      "Cancel creation.\n",
      "Cancel creation.\n",
      "Image:C:\\Users\\muham\\Documents\\GitHub\\Object detection\\TFODCourse\\Tensorflow\\workspace\\images\\collectedimages\\2022-03-11-11-3A29-3A18-318900_jpg.rf.c6271d500b102765c4fc4f9f53571f53.jpg -> Annotation:C:/Users/muham/Documents/GitHub/Object detection/TFODCourse/Tensorflow/workspace/images/collectedimages\\2022-03-11-11-3A29-3A18-318900_jpg.rf.c6271d500b102765c4fc4f9f53571f53.xml\n"
     ]
    },
    {
     "name": "stderr",
     "output_type": "stream",
     "text": [
      "QAction::event: Ambiguous shortcut overload: Ctrl+Shift+S\n",
      "QAction::event: Ambiguous shortcut overload: Ctrl+Shift+S\n"
     ]
    }
   ],
   "source": [
    "!cd {LABELIMG_PATH} && python labelImg.py"
   ]
  },
  {
   "cell_type": "markdown",
   "metadata": {},
   "source": []
  },
  {
   "cell_type": "markdown",
   "metadata": {},
   "source": []
  },
  {
   "cell_type": "code",
   "execution_count": 20,
   "metadata": {},
   "outputs": [],
   "source": [
    "TRAIN_PATH = os.path.join('Tensorflow', 'workspace', 'images', 'train')\n",
    "TEST_PATH = os.path.join('Tensorflow', 'workspace', 'images', 'test')\n",
    "ARCHIVE_PATH = os.path.join('Tensorflow', 'workspace', 'images', 'archive.tar.gz')"
   ]
  },
  {
   "cell_type": "code",
   "execution_count": 21,
   "metadata": {},
   "outputs": [],
   "source": [
    "!tar -czf {ARCHIVE_PATH} {TRAIN_PATH} {TEST_PATH}"
   ]
  },
  {
   "cell_type": "code",
   "execution_count": null,
   "metadata": {},
   "outputs": [],
   "source": []
  }
 ],
 "metadata": {
  "kernelspec": {
   "display_name": "tfod",
   "language": "python",
   "name": "tfod"
  },
  "language_info": {
   "codemirror_mode": {
    "name": "ipython",
    "version": 3
   },
   "file_extension": ".py",
   "mimetype": "text/x-python",
   "name": "python",
   "nbconvert_exporter": "python",
   "pygments_lexer": "ipython3",
   "version": "3.10.6"
  }
 },
 "nbformat": 4,
 "nbformat_minor": 2
}
